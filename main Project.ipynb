{
 "cells": [
  {
   "cell_type": "code",
   "execution_count": 27,
   "metadata": {
    "trusted": true
   },
   "outputs": [],
   "source": [
    "# Import necessary libraries\n",
    "import pandas as pd\n",
    "from sklearn.preprocessing import StandardScaler\n",
    "from sklearn.model_selection import train_test_split\n",
    "from sklearn.ensemble import RandomForestRegressor\n",
    "from sklearn.metrics import mean_absolute_error,mean_squared_error,r2_score\n",
    "from sklearn.preprocessing import LabelEncoder\n",
    "from sklearn.linear_model import Lasso, Ridge\n",
    "from sklearn.neighbors import KNeighborsRegressor\n",
    "from sklearn.linear_model import LinearRegression\n",
    "import joblib as jl\n",
    "import pickle\n",
    "import numpy as np\n",
    "import seaborn as sns\n",
    "import matplotlib.pyplot as plt\n",
    "from sklearn.preprocessing import LabelEncoder\n"
   ]
  },
  {
   "cell_type": "code",
   "execution_count": 28,
   "metadata": {
    "trusted": true
   },
   "outputs": [
    {
     "name": "stdout",
     "output_type": "stream",
     "text": [
      "<class 'pandas.core.frame.DataFrame'>\n",
      "RangeIndex: 4340 entries, 0 to 4339\n",
      "Data columns (total 8 columns):\n",
      " #   Column         Non-Null Count  Dtype \n",
      "---  ------         --------------  ----- \n",
      " 0   name           4340 non-null   object\n",
      " 1   year           4340 non-null   int64 \n",
      " 2   selling_price  4340 non-null   int64 \n",
      " 3   km_driven      4340 non-null   int64 \n",
      " 4   fuel           4340 non-null   object\n",
      " 5   seller_type    4340 non-null   object\n",
      " 6   transmission   4340 non-null   object\n",
      " 7   owner          4340 non-null   object\n",
      "dtypes: int64(3), object(5)\n",
      "memory usage: 271.4+ KB\n",
      "None\n"
     ]
    }
   ],
   "source": [
    "df=\"CAR_DETAILS.csv\"\n",
    "df=pd.read_csv(df)\n",
    "print(df.info())"
   ]
  },
  {
   "cell_type": "code",
   "execution_count": 29,
   "metadata": {
    "trusted": true
   },
   "outputs": [
    {
     "name": "stdout",
     "output_type": "stream",
     "text": [
      "Null values in dataset:  34720\n",
      "Duplicate values in dataset:  763\n",
      "Duplicate values in dataset:  79\n"
     ]
    }
   ],
   "source": [
    "print(\"Null values in dataset: \",df.isnull().count().sum())\n",
    "print(\"Duplicate values in dataset: \",df.duplicated().sum())\n",
    "df1=df.drop_duplicates()\n",
    "df1=df1.drop('name',axis=1)\n",
    "print(\"Duplicate values in dataset: \",df1.duplicated().sum())"
   ]
  },
  {
   "cell_type": "code",
   "execution_count": 30,
   "metadata": {
    "trusted": true
   },
   "outputs": [
    {
     "name": "stdout",
     "output_type": "stream",
     "text": [
      "   year  selling_price  km_driven  fuel  seller_type  transmission  owner\n",
      "0  2007          60000      70000     4            1             1      0\n",
      "1  2007         135000      50000     4            1             1      0\n",
      "2  2012         600000     100000     1            1             1      0\n",
      "3  2017         250000      46000     4            1             1      0\n",
      "4  2014         450000     141000     1            1             1      2\n"
     ]
    }
   ],
   "source": [
    "num=[\"km_driven\",\"year\",'selling_price']\n",
    "cate=[\"seller_type\",\"owner\",\"fuel\",\"transmission\"]\n",
    "\n",
    "scale=StandardScaler()\n",
    "scaled=scale.fit_transform(df1[num])\n",
    "\n",
    "le = LabelEncoder()\n",
    "for col in cate:\n",
    "    df1[col] = le.fit_transform(df1[col])\n",
    "\n",
    "print(df1.head())"
   ]
  },
  {
   "cell_type": "code",
   "execution_count": 31,
   "metadata": {
    "trusted": true
   },
   "outputs": [
    {
     "name": "stdout",
     "output_type": "stream",
     "text": [
      "Index(['year', 'selling_price', 'km_driven', 'fuel', 'seller_type',\n",
      "       'transmission', 'owner'],\n",
      "      dtype='object')\n"
     ]
    }
   ],
   "source": [
    "x_s=df1.drop('selling_price',axis=1)\n",
    "y = df1['selling_price']\n",
    "col_names=x_s.columns\n",
    "x=pd.DataFrame(x_s,columns=col_names)\n",
    "print(df1.columns)\n",
    "x_train,x_test,y_train,y_test = train_test_split(x,y,test_size=0.2,random_state=42)"
   ]
  },
  {
   "cell_type": "code",
   "execution_count": 32,
   "metadata": {
    "trusted": true
   },
   "outputs": [],
   "source": [
    "def reg_eval(y,ypred):\n",
    "    print('MAE',mean_absolute_error(y,ypred))\n",
    "    print('MSE',mean_squared_error(y,ypred))\n",
    "    print('RMSE',np.sqrt(mean_squared_error(y,ypred)))\n",
    "    print('R2 score',r2_score(y,ypred))\n",
    "    print('\\n')\n",
    "\n",
    "def model_score(model):\n",
    "  print('Training Score',model.score(x_train,y_train))\n",
    "  print('Testing Score',model.score(x_test,y_test))"
   ]
  },
  {
   "cell_type": "code",
   "execution_count": 33,
   "metadata": {
    "trusted": true
   },
   "outputs": [
    {
     "name": "stdout",
     "output_type": "stream",
     "text": [
      "Evalutaing the Model Linear Regression\n",
      "\n",
      "MAE 215522.4645487041\n",
      "MSE 197896678171.88495\n",
      "RMSE 444855.7948053335\n",
      "R2 score 0.38566846491225903\n",
      "\n",
      "\n",
      "Training Score 0.4405812131213911\n",
      "Testing Score 0.38566846491225903\n"
     ]
    }
   ],
   "source": [
    "model_lin=LinearRegression()\n",
    "model_lin.fit(x_train,y_train)\n",
    "\n",
    "ypred1=model_lin.predict(x_test)\n",
    "\n",
    "print('Evalutaing the Model Linear Regression\\n')\n",
    "reg_eval(y_test,ypred1)\n",
    "model_score(model_lin)"
   ]
  },
  {
   "cell_type": "code",
   "execution_count": 34,
   "metadata": {
    "trusted": true
   },
   "outputs": [
    {
     "name": "stdout",
     "output_type": "stream",
     "text": [
      "Evalutaing the Model: KNN\n",
      "\n",
      "MAE 239459.16861350942\n",
      "MSE 276148439805.9148\n",
      "RMSE 525498.2776431477\n",
      "R2 score 0.14275117447548002\n",
      "\n",
      "\n",
      "Training Score 0.3134740452692356\n",
      "Testing Score 0.14275117447548002\n"
     ]
    }
   ],
   "source": [
    "model_knn=KNeighborsRegressor(n_neighbors=11)\n",
    "model_knn.fit(x_train,y_train)\n",
    "\n",
    "ypred2=model_knn.predict(x_test)\n",
    "\n",
    "print('Evalutaing the Model: KNN\\n')\n",
    "reg_eval(y_test,ypred2)\n",
    "model_score(model_knn)"
   ]
  },
  {
   "cell_type": "code",
   "execution_count": 35,
   "metadata": {
    "trusted": true
   },
   "outputs": [
    {
     "name": "stdout",
     "output_type": "stream",
     "text": [
      "Evalutaing the Model Ridge\n",
      "\n",
      "MAE 215471.1465997805\n",
      "MSE 197889561470.12796\n",
      "RMSE 444847.7958472178\n",
      "R2 score 0.38569055732106305\n",
      "\n",
      "\n",
      "Training Score 0.44058019228198664\n",
      "Testing Score 0.38569055732106305\n"
     ]
    }
   ],
   "source": [
    "model_ridge=Ridge(alpha=0.5)\n",
    "model_ridge.fit(x_train,y_train)\n",
    "ypred4=model_ridge.predict(x_test)\n",
    "\n",
    "print('Evalutaing the Model Ridge\\n')\n",
    "reg_eval(y_test,ypred4)\n",
    "model_score(model_ridge)"
   ]
  },
  {
   "cell_type": "code",
   "execution_count": 36,
   "metadata": {
    "trusted": true
   },
   "outputs": [],
   "source": [
    "pickle.dump(model_knn,open(\"Car_price_predict.pkl\",'wb'))\n",
    "\n",
    "loaded=pickle.load(open('Car_price_predict.pkl','rb'))"
   ]
  },
  {
   "cell_type": "code",
   "execution_count": 37,
   "metadata": {
    "trusted": true
   },
   "outputs": [
    {
     "name": "stdout",
     "output_type": "stream",
     "text": [
      "Training Features: 6\n",
      "Sample Features: 7\n",
      "Index(['year', 'km_driven', 'fuel', 'seller_type', 'transmission', 'owner'], dtype='object')\n",
      "Predicted Prices: [120090.90909091 135454.54545455 360999.90909091 ... 359181.81818182\n",
      " 583454.45454545 314090.81818182]\n"
     ]
    }
   ],
   "source": [
    "sample= df1.sample(20,random_state=42)\n",
    "\n",
    "print(\"Training Features:\", x.shape[1])\n",
    "print(\"Sample Features:\", df1.shape[1])\n",
    "print(x.columns)\n",
    "\n",
    "\n",
    "\n",
    "sample_predictions = loaded.predict(x)\n",
    "print(\"Predicted Prices:\", sample_predictions)"
   ]
  },
  {
   "cell_type": "code",
   "execution_count": 38,
   "metadata": {
    "trusted": true
   },
   "outputs": [
    {
     "name": "stdout",
     "output_type": "stream",
     "text": [
      "Prediction is :  [120090.90909091 135454.54545455 360999.90909091 ... 359181.81818182\n",
      " 583454.45454545 314090.81818182]\n"
     ]
    }
   ],
   "source": [
    "prediction= loaded.predict(x)\n",
    "print(\"Prediction is : \",prediction)"
   ]
  },
  {
   "cell_type": "code",
   "execution_count": null,
   "metadata": {},
   "outputs": [],
   "source": []
  }
 ],
 "metadata": {
  "kernelspec": {
   "display_name": "base",
   "language": "python",
   "name": "python3"
  },
  "language_info": {
   "codemirror_mode": {
    "name": "ipython",
    "version": 3
   },
   "file_extension": ".py",
   "mimetype": "text/x-python",
   "name": "python",
   "nbconvert_exporter": "python",
   "pygments_lexer": "ipython3",
   "version": "3.9.7"
  }
 },
 "nbformat": 4,
 "nbformat_minor": 4
}
